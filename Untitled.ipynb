{
 "cells": [
  {
   "cell_type": "code",
   "execution_count": null,
   "id": "724760ef-07a3-483b-98f8-2daaa4836bc9",
   "metadata": {},
   "outputs": [],
   "source": [
    "import pandas as pd\n",
    "from pathlib import Path\n",
    "\n",
    "csvpath = Path"
   ]
  }
 ],
 "metadata": {
  "kernelspec": {
   "display_name": "python(dev)",
   "language": "python",
   "name": "dev"
  },
  "language_info": {
   "codemirror_mode": {
    "name": "ipython",
    "version": 3
   },
   "file_extension": ".py",
   "mimetype": "text/x-python",
   "name": "python",
   "nbconvert_exporter": "python",
   "pygments_lexer": "ipython3",
   "version": "3.7.13"
  }
 },
 "nbformat": 4,
 "nbformat_minor": 5
}
